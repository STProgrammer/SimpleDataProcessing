{
 "cells": [
  {
   "cell_type": "markdown",
   "id": "03022c86",
   "metadata": {},
   "source": [
    "# Data Cleaning + 5-Chart EDA (Template)\n",
    "\n",
    "**Purpose:** Fast, standardized delivery for Fiverr clients.  \n",
    "**Inputs:** A CSV/XLSX file path.  \n",
    "**Outputs:** Cleaned dataset, 5 charts (PNGs), and a short insights summary.\n"
   ]
  },
  {
   "cell_type": "code",
   "execution_count": 1,
   "id": "88bf876e",
   "metadata": {},
   "outputs": [],
   "source": [
    "\n",
    "import os, pandas as pd, numpy as np, matplotlib.pyplot as plt\n",
    "from datetime import datetime\n",
    "plt.rcParams['figure.figsize'] = (8,4)\n",
    "\n",
    "RAW_PATH = \"ecommerce_raw.csv\"      # replace with client file\n",
    "CLEAN_PATH = \"ecommerce_clean.csv\"\n",
    "CHARTS_DIR = \"charts\"\n",
    "os.makedirs(CHARTS_DIR, exist_ok=True)\n",
    "\n",
    "def save_chart(fig, name):\n",
    "    fig.tight_layout()\n",
    "    fig.savefig(os.path.join(CHARTS_DIR, name), dpi=160, bbox_inches=\"tight\")\n",
    "    plt.close(fig)\n"
   ]
  },
  {
   "cell_type": "code",
   "execution_count": 2,
   "id": "801bd3ed",
   "metadata": {},
   "outputs": [
    {
     "name": "stdout",
     "output_type": "stream",
     "text": [
      "Saved cleaned dataset to ecommerce_clean.csv\n"
     ]
    }
   ],
   "source": [
    "\n",
    "# 1) Load and basic cleaning (adjust rules as needed)\n",
    "df = pd.read_csv(RAW_PATH)\n",
    "\n",
    "# Standardize whitespace/case for object columns\n",
    "for c in df.select_dtypes(include=['object']).columns:\n",
    "    df[c] = df[c].astype(str).str.strip()\n",
    "\n",
    "# Try parsing any column that looks like a date\n",
    "for c in df.columns:\n",
    "    if any(k in c.lower() for k in [\"date\",\"time\",\"at\"]):\n",
    "        df[c] = pd.to_datetime(df[c], errors=\"coerce\")\n",
    "\n",
    "# Numeric coercion\n",
    "for c in df.columns:\n",
    "    if df[c].dtype == 'object':\n",
    "        try:\n",
    "            df[c] = pd.to_numeric(df[c], errors='ignore')\n",
    "        except Exception:\n",
    "            pass\n",
    "\n",
    "# Null handling (simple defaults; customize per project)\n",
    "df = df.drop_duplicates()\n",
    "# Optional: fill numeric nulls with median\n",
    "for c in df.select_dtypes(include=[np.number]).columns:\n",
    "    df[c] = df[c].fillna(df[c].median())\n",
    "\n",
    "df.to_csv(CLEAN_PATH, index=False)\n",
    "print(\"Saved cleaned dataset to\", CLEAN_PATH)\n"
   ]
  },
  {
   "cell_type": "code",
   "execution_count": 3,
   "id": "a5db7f8b",
   "metadata": {},
   "outputs": [
    {
     "ename": "TypeError",
     "evalue": "corr() got an unexpected keyword argument 'numeric_only'",
     "output_type": "error",
     "traceback": [
      "\u001b[1;31m---------------------------------------------------------------------------\u001b[0m",
      "\u001b[1;31mTypeError\u001b[0m                                 Traceback (most recent call last)",
      "Input \u001b[1;32mIn [3]\u001b[0m, in \u001b[0;36m<cell line: 51>\u001b[1;34m()\u001b[0m\n\u001b[0;32m     50\u001b[0m \u001b[38;5;66;03m# Chart 5: Correlation heatmap (if >=3 numeric)\u001b[39;00m\n\u001b[0;32m     51\u001b[0m \u001b[38;5;28;01mif\u001b[39;00m \u001b[38;5;28mlen\u001b[39m(numeric_cols) \u001b[38;5;241m>\u001b[39m\u001b[38;5;241m=\u001b[39m \u001b[38;5;241m3\u001b[39m:\n\u001b[1;32m---> 52\u001b[0m     corr \u001b[38;5;241m=\u001b[39m \u001b[43mdf\u001b[49m\u001b[43m[\u001b[49m\u001b[43mnumeric_cols\u001b[49m\u001b[43m]\u001b[49m\u001b[38;5;241;43m.\u001b[39;49m\u001b[43mcorr\u001b[49m\u001b[43m(\u001b[49m\u001b[43mnumeric_only\u001b[49m\u001b[38;5;241;43m=\u001b[39;49m\u001b[38;5;28;43;01mTrue\u001b[39;49;00m\u001b[43m)\u001b[49m\n\u001b[0;32m     53\u001b[0m     fig, ax \u001b[38;5;241m=\u001b[39m plt\u001b[38;5;241m.\u001b[39msubplots()\n\u001b[0;32m     54\u001b[0m     cax \u001b[38;5;241m=\u001b[39m ax\u001b[38;5;241m.\u001b[39mimshow(corr\u001b[38;5;241m.\u001b[39mvalues, interpolation\u001b[38;5;241m=\u001b[39m\u001b[38;5;124m'\u001b[39m\u001b[38;5;124mnearest\u001b[39m\u001b[38;5;124m'\u001b[39m)\n",
      "\u001b[1;31mTypeError\u001b[0m: corr() got an unexpected keyword argument 'numeric_only'"
     ]
    }
   ],
   "source": [
    "\n",
    "# 2) Generate 5 charts (fallback selections if not specified by client)\n",
    "numeric_cols = df.select_dtypes(include=[np.number]).columns.tolist()\n",
    "if len(numeric_cols) >= 2:\n",
    "    x, y = numeric_cols[:2]\n",
    "else:\n",
    "    # synthesize numeric index if needed\n",
    "    df[\"__row__\"] = range(len(df))\n",
    "    numeric_cols = [\"__row__\"] + numeric_cols\n",
    "    x, y = numeric_cols[:2]\n",
    "\n",
    "# Chart 1: Histogram of first numeric\n",
    "fig, ax = plt.subplots()\n",
    "ax.hist(df[numeric_cols[0]].dropna(), bins=40)\n",
    "ax.set_title(f\"Distribution of {numeric_cols[0]}\")\n",
    "ax.set_xlabel(numeric_cols[0]); ax.set_ylabel(\"Count\")\n",
    "save_chart(fig, \"1_hist.png\")\n",
    "\n",
    "# Chart 2: Scatter of first two numeric\n",
    "fig, ax = plt.subplots()\n",
    "ax.scatter(df[x], df[y], alpha=0.6)\n",
    "ax.set_title(f\"{x} vs {y}\")\n",
    "ax.set_xlabel(x); ax.set_ylabel(y)\n",
    "save_chart(fig, \"2_scatter.png\")\n",
    "\n",
    "# Chart 3: Boxplot of first numeric by top category (if any)\n",
    "cat_cols = df.select_dtypes(exclude=[np.number, 'datetime64[ns]']).columns.tolist()\n",
    "if cat_cols:\n",
    "    cat = cat_cols[0]\n",
    "    # keep only top 10 categories\n",
    "    top10 = df[cat].value_counts().index[:10]\n",
    "    fig, ax = plt.subplots()\n",
    "    df[df[cat].isin(top10)].boxplot(column=numeric_cols[0], by=cat, rot=45, ax=ax)\n",
    "    ax.set_title(f\"{numeric_cols[0]} by {cat}\")\n",
    "    ax.set_xlabel(cat); ax.set_ylabel(numeric_cols[0])\n",
    "    plt.suptitle(\"\")\n",
    "    save_chart(fig, \"3_box_by_cat.png\")\n",
    "\n",
    "# Chart 4: Time series if any datetime column exists\n",
    "date_cols = df.select_dtypes(include=['datetime64[ns]']).columns.tolist()\n",
    "if date_cols and numeric_cols:\n",
    "    tcol = date_cols[0]\n",
    "    ts = df[[tcol, numeric_cols[0]]].dropna()\n",
    "    ts = ts.groupby(pd.Grouper(key=tcol, freq='D'))[numeric_cols[0]].sum().reset_index()\n",
    "    fig, ax = plt.subplots()\n",
    "    ax.plot(ts[tcol], ts[numeric_cols[0]])\n",
    "    ax.set_title(f\"Daily {numeric_cols[0]}\")\n",
    "    ax.set_xlabel(\"Date\"); ax.set_ylabel(numeric_cols[0])\n",
    "    save_chart(fig, \"4_timeseries.png\")\n",
    "\n",
    "# Chart 5: Correlation heatmap (if >=3 numeric)\n",
    "if len(numeric_cols) >= 3:\n",
    "    corr = df[numeric_cols].corr(numeric_only=True)\n",
    "    fig, ax = plt.subplots()\n",
    "    cax = ax.imshow(corr.values, interpolation='nearest')\n",
    "    ax.set_title(\"Correlation Heatmap\")\n",
    "    ax.set_xticks(range(len(corr.columns))); ax.set_xticklabels(corr.columns, rotation=90)\n",
    "    ax.set_yticks(range(len(corr.columns))); ax.set_yticklabels(corr.columns)\n",
    "    fig.colorbar(cax)\n",
    "    save_chart(fig, \"5_corr_heatmap.png\")\n"
   ]
  },
  {
   "cell_type": "markdown",
   "id": "904cfe65",
   "metadata": {},
   "source": [
    "\n",
    "### Delivery Notes (copy into your PDF summary)\n",
    "- **Data health**: duplicates removed; numeric nulls filled with median (customize as needed).\n",
    "- **Key patterns**: (write 3–5 bullet points referencing the charts)\n",
    "- **Outliers/Warnings**: (mention anomalies, missing ranges, unexpected spikes)\n",
    "- **Next steps**: (what simple analysis/modeling could help their decision)\n"
   ]
  }
 ],
 "metadata": {
  "kernelspec": {
   "display_name": "Python 3 (ipykernel)",
   "language": "python",
   "name": "python3"
  },
  "language_info": {
   "codemirror_mode": {
    "name": "ipython",
    "version": 3
   },
   "file_extension": ".py",
   "mimetype": "text/x-python",
   "name": "python",
   "nbconvert_exporter": "python",
   "pygments_lexer": "ipython3",
   "version": "3.9.12"
  }
 },
 "nbformat": 4,
 "nbformat_minor": 5
}
